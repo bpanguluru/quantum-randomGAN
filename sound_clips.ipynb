{
 "cells": [
  {
   "cell_type": "code",
   "execution_count": null,
   "id": "e77cf572",
   "metadata": {},
   "outputs": [],
   "source": [
    "import torch\n",
    "import torchaudio\n",
    "import torchaudio.functional as F\n",
    "import torchaudio.transforms as T\n",
    "import librosa\n",
    "import numpy as np\n",
    "import matplotlib\n",
    "import matplotlib.pyplot as plt\n",
    "print(torch.cuda.is_available(),\n",
    "torch.cuda.current_device(),\n",
    "torch.cuda.device(0),\n",
    "torch.cuda.get_device_name(0))\n",
    "import librosa.display\n",
    "from librosa.feature import melspectrogram\n",
    "from IPython.display import Audio"
   ]
  },
  {
   "cell_type": "code",
   "execution_count": null,
   "id": "724bcccc",
   "metadata": {},
   "outputs": [],
   "source": [
    "hop_length = 192\n",
    "win_length = 6*hop_length\n",
    "\n",
    "n_mels = 192\n",
    "sample_rate = 16000\n",
    "n_fft = 6*hop_length\n",
    "\n",
    "spectrogram = T.Spectrogram(\n",
    "    n_fft=n_fft,\n",
    "    win_length=win_length,\n",
    "    hop_length=hop_length,\n",
    "    center=True,\n",
    "    pad_mode=\"reflect\",\n",
    "    power=2.0,\n",
    ")\n",
    "\n",
    "griffin_lim = T.GriffinLim(\n",
    "    n_fft=n_fft,\n",
    "    win_length=win_length,\n",
    "    hop_length=hop_length,\n",
    ")\n",
    "\n",
    "def plot_spectrogram(spec, title=None, ylabel='freq_bin', aspect='auto', xmax=None):\n",
    "    fig, axs = plt.subplots(1, 1)\n",
    "    axs.set_title(title or 'Spectrogram (db)')\n",
    "    axs.set_ylabel(ylabel)\n",
    "    axs.set_xlabel('frame')\n",
    "    im = axs.imshow(librosa.power_to_db(spec), origin='lower', aspect=aspect)\n",
    "    if xmax:\n",
    "        axs.set_xlim((0, xmax))\n",
    "    fig.colorbar(im, ax=axs)\n",
    "    plt.show(block=False)\n",
    "    \n",
    "def removearray(L,arr):\n",
    "    ind = 0\n",
    "    size = len(L)\n",
    "    while ind != size and not np.array_equal(L[ind],arr):\n",
    "        ind += 1\n",
    "    if ind != size:\n",
    "        L.pop(ind)\n",
    "    else:\n",
    "        raise ValueError('array not found in list.')"
   ]
  },
  {
   "cell_type": "code",
   "execution_count": null,
   "id": "b596f7a0",
   "metadata": {},
   "outputs": [],
   "source": [
    "waveform, sr = librosa.load(r\"C:\\Users\\g_bab\\Downloads\\1 hour botw.mp3\")"
   ]
  },
  {
   "cell_type": "code",
   "execution_count": null,
   "id": "29cd0068",
   "metadata": {},
   "outputs": [],
   "source": [
    "print(type(waveform))\n",
    "Audio(waveform, rate = 16000)"
   ]
  },
  {
   "cell_type": "code",
   "execution_count": null,
   "id": "36d0fe3d",
   "metadata": {
    "scrolled": true
   },
   "outputs": [],
   "source": [
    "list_samples = np.array_split(waveform, 3600)\n",
    "print(type(list_samples), len(list_samples))\n",
    "for sample in (list_samples):\n",
    "    if len(sample) != 23560:\n",
    "        print(len(sample))\n",
    "        removearray(list_samples, sample)"
   ]
  },
  {
   "cell_type": "code",
   "execution_count": null,
   "id": "51c01e29",
   "metadata": {},
   "outputs": [],
   "source": [
    "print(len(list_samples))"
   ]
  },
  {
   "cell_type": "code",
   "execution_count": null,
   "id": "da082d5c",
   "metadata": {
    "scrolled": false
   },
   "outputs": [],
   "source": [
    "spec = spectrogram(torch.from_numpy(list_samples[200]))\n",
    "print(spec.size())\n",
    "#print_stats(spec)\n",
    "plot_spectrogram(spec, title='torchaudio')"
   ]
  },
  {
   "cell_type": "code",
   "execution_count": null,
   "id": "fe326bca",
   "metadata": {},
   "outputs": [],
   "source": [
    "specs_list = []"
   ]
  },
  {
   "cell_type": "code",
   "execution_count": null,
   "id": "9e888b80",
   "metadata": {},
   "outputs": [],
   "source": [
    "for sample in list_samples: \n",
    "    tensor = torch.from_numpy(sample)\n",
    "    spec = spectrogram(tensor)\n",
    "    \n",
    "    specs_list.append(spec)\n",
    "    #plot_spectrogram(spec[0], title='torchaudio')\n",
    "print(type(specs_list[1]))"
   ]
  },
  {
   "cell_type": "code",
   "execution_count": null,
   "id": "5498492b",
   "metadata": {},
   "outputs": [],
   "source": [
    "#testing if the audio can be reconstructed well enough through Griffin-Lim\n",
    "toaudio_list = []\n",
    "for sample in specs_list[:100]:                #first 100 melspecs (np arrays) in a list\n",
    "    sample = sample.detach().numpy()\n",
    "    toaudio_list.append(sample)"
   ]
  },
  {
   "cell_type": "code",
   "execution_count": null,
   "id": "b02a554f",
   "metadata": {
    "scrolled": true
   },
   "outputs": [],
   "source": [
    "list_amp_values = []\n",
    "for melspec in toaudio_list:\n",
    "    audio_array = librosa.feature.inverse.mel_to_audio(melspec, sr = 16000)\n",
    "    list_amp_values += list(audio_array)\n",
    "playback = np.asarray(list_amp_values)\n"
   ]
  },
  {
   "cell_type": "code",
   "execution_count": null,
   "id": "414d16dc",
   "metadata": {
    "scrolled": true
   },
   "outputs": [],
   "source": [
    "Audio(playback, rate=44100)    "
   ]
  }
 ],
 "metadata": {
  "kernelspec": {
   "display_name": "Python 3 (ipykernel)",
   "language": "python",
   "name": "python3"
  },
  "language_info": {
   "codemirror_mode": {
    "name": "ipython",
    "version": 3
   },
   "file_extension": ".py",
   "mimetype": "text/x-python",
   "name": "python",
   "nbconvert_exporter": "python",
   "pygments_lexer": "ipython3",
   "version": "3.8.12"
  }
 },
 "nbformat": 4,
 "nbformat_minor": 5
}
